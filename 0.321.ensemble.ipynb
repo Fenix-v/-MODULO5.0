{
 "cells": [
  {
   "cell_type": "markdown",
   "metadata": {},
   "source": [
    "# Algoritmos de conjunto\n",
    "\n",
    "sklearn.ensemble"
   ]
  },
  {
   "cell_type": "code",
   "execution_count": 1,
   "metadata": {},
   "outputs": [],
   "source": [
    "import seaborn as sns\n",
    "import numpy as np\n",
    "import pandas as pd\n",
    "from sklearn.model_selection import train_test_split\n",
    "from sklearn.metrics import r2_score, mean_absolute_error, root_mean_squared_error, mean_absolute_percentage_error\n",
    "\n",
    "df = sns.load_dataset('mpg').dropna()\n",
    "\n",
    "features = ['weight', 'cylinders', 'displacement', 'horsepower', 'acceleration', 'model_year']\n",
    "X = df[features]\n",
    "y = df['mpg']\n",
    "X_train, X_test, y_train, y_test = train_test_split(X, y, test_size=0.2, random_state=42)\n",
    "\n"
   ]
  },
  {
   "cell_type": "markdown",
   "metadata": {},
   "source": [
    "# 1. Bagging (Boostrap Aggregating)"
   ]
  },
  {
   "cell_type": "code",
   "execution_count": 2,
   "metadata": {},
   "outputs": [
    {
     "name": "stdout",
     "output_type": "stream",
     "text": [
      "BaggingRegressor: R2 = 0.842, MAE = 2.049, RMSE = 2.838, MAPE = 0.091\n",
      "RandomForestRegressor: R2 = 0.885, MAE = 1.761, RMSE = 2.423, MAPE = 0.080\n",
      "ExtraTreesRegressor: R2 = 0.896, MAE = 1.693, RMSE = 2.305, MAPE = 0.076\n"
     ]
    }
   ],
   "source": [
    "from sklearn.ensemble import BaggingRegressor, RandomForestRegressor, ExtraTreesRegressor\n",
    "\n",
    "models = {\n",
    "    'BaggingRegressor': BaggingRegressor(random_state=42),\n",
    "    'RandomForestRegressor': RandomForestRegressor(random_state=42),\n",
    "    'ExtraTreesRegressor': ExtraTreesRegressor(random_state=42),\n",
    "    \n",
    "}\n",
    "\n",
    "for name, model in models.items():\n",
    "    model.fit(X_train, y_train)\n",
    "    y_pred = model.predict(X_test)\n",
    "    print(f\"{name}: R2 = {r2_score(y_test, y_pred):.3f}, MAE = {mean_absolute_error(y_test, y_pred):.3f}, RMSE = {root_mean_squared_error(y_test, y_pred):.3f}, MAPE = {mean_absolute_percentage_error(y_test, y_pred):.3f}\")"
   ]
  },
  {
   "cell_type": "markdown",
   "metadata": {},
   "source": [
    "# 2. Voting"
   ]
  },
  {
   "cell_type": "code",
   "execution_count": 8,
   "metadata": {},
   "outputs": [
    {
     "name": "stdout",
     "output_type": "stream",
     "text": [
      "VotingRegressor: R2 = 0.826, MAE = 2.186, RMSE = 2.981, MAPE = 0.096\n"
     ]
    }
   ],
   "source": [
    "from sklearn.ensemble import VotingRegressor\n",
    "from sklearn.linear_model import LinearRegression\n",
    "from sklearn.neighbors import KNeighborsRegressor\n",
    "from sklearn.svm import  SVR\n",
    "from sklearn.tree import DecisionTreeRegressor\n",
    "\n",
    "model_1 = LinearRegression()\n",
    "model_2 = KNeighborsRegressor()\n",
    "model_3 = SVR()\n",
    "model_4 = DecisionTreeRegressor()\n",
    "\n",
    "model = VotingRegressor([\n",
    "    ('linear_regression', model_1),\n",
    "    ('knn', model_2),\n",
    "    ('svr', model_3),\n",
    "    ('cart', model_4),\n",
    "])\n",
    "\n",
    "model.fit(X_train, y_train)\n",
    "y_pred = model.predict(X_test)\n",
    "print(f\"VotingRegressor: R2 = {r2_score(y_test, y_pred):.3f}, MAE = {mean_absolute_error(y_test, y_pred):.3f}, RMSE = {root_mean_squared_error(y_test, y_pred):.3f}, MAPE = {mean_absolute_percentage_error(y_test, y_pred):.3f}\")"
   ]
  },
  {
   "cell_type": "code",
   "execution_count": 9,
   "metadata": {},
   "outputs": [
    {
     "name": "stdout",
     "output_type": "stream",
     "text": [
      "VotingRegressor: R2 = 0.897, MAE = 1.665, RMSE = 2.297, MAPE = 0.075\n"
     ]
    }
   ],
   "source": [
    "model_1 = RandomForestRegressor()\n",
    "model_2 = ExtraTreesRegressor()\n",
    "\n",
    "model = VotingRegressor([\n",
    "    ('rf', model_1),\n",
    "    ('et', model_2),\n",
    "  \n",
    "])\n",
    "\n",
    "model.fit(X_train, y_train)\n",
    "y_pred = model.predict(X_test)\n",
    "print(f\"VotingRegressor: R2 = {r2_score(y_test, y_pred):.3f}, MAE = {mean_absolute_error(y_test, y_pred):.3f}, RMSE = {root_mean_squared_error(y_test, y_pred):.3f}, MAPE = {mean_absolute_percentage_error(y_test, y_pred):.3f}\")"
   ]
  },
  {
   "cell_type": "markdown",
   "metadata": {},
   "source": [
    "# 3. Boosting"
   ]
  },
  {
   "cell_type": "code",
   "execution_count": 4,
   "metadata": {},
   "outputs": [
    {
     "name": "stdout",
     "output_type": "stream",
     "text": [
      "AdaBoostRegressor: R2 = 0.818, MAE = 2.240, RMSE = 3.048, MAPE = 0.103\n",
      "GradientBoostingRegressor: R2 = 0.875, MAE = 1.810, RMSE = 2.526, MAPE = 0.081\n"
     ]
    }
   ],
   "source": [
    "from sklearn.ensemble import AdaBoostRegressor, GradientBoostingRegressor\n",
    "\n",
    "models = {\n",
    "    'AdaBoostRegressor': AdaBoostRegressor(random_state=42), # Utiliza por defecto 50 stimator\n",
    "    'GradientBoostingRegressor': GradientBoostingRegressor() # 100 stimator por defecto\n",
    "}\n",
    "\n",
    "for name, model in models.items():\n",
    "    model.fit(X_train, y_train)\n",
    "    y_pred = model.predict(X_test)\n",
    "    print(f\"{name}: R2 = {r2_score(y_test, y_pred):.3f}, MAE = {mean_absolute_error(y_test, y_pred):.3f}, RMSE = {root_mean_squared_error(y_test, y_pred):.3f}, MAPE = {mean_absolute_percentage_error(y_test, y_pred):.3f}\")"
   ]
  },
  {
   "cell_type": "markdown",
   "metadata": {},
   "source": [
    "# 4. Stacking (Stacked generalization)"
   ]
  },
  {
   "cell_type": "code",
   "execution_count": 12,
   "metadata": {},
   "outputs": [
    {
     "name": "stdout",
     "output_type": "stream",
     "text": [
      "StackingRegressor: R2 = 0.873, MAE = 1.951, RMSE = 2.551, MAPE = 0.089\n"
     ]
    }
   ],
   "source": [
    "from sklearn.ensemble import StackingRegressor\n",
    "\n",
    "\n",
    "model_2 = KNeighborsRegressor()\n",
    "model_3 = SVR()\n",
    "model_4 = DecisionTreeRegressor()\n",
    "\n",
    "model = StackingRegressor([\n",
    "        ('linear_regression', model_1),\n",
    "        ('knn', model_2),\n",
    "        ('svr', model_3),\n",
    "        ('cart', model_4),\n",
    "    ],\n",
    "    final_estimator = RandomForestRegressor(random_state=42)  # este es un meta estimator que se entrena usando como entrada los modelos base                     \n",
    ")                    \n",
    "\n",
    "model.fit(X_train, y_train)\n",
    "y_pred = model.predict(X_test)\n",
    "print(f\"StackingRegressor: R2 = {r2_score(y_test, y_pred):.3f}, MAE = {mean_absolute_error(y_test, y_pred):.3f}, RMSE = {root_mean_squared_error(y_test, y_pred):.3f}, MAPE = {mean_absolute_percentage_error(y_test, y_pred):.3f}\")"
   ]
  }
 ],
 "metadata": {
  "kernelspec": {
   "display_name": "base",
   "language": "python",
   "name": "python3"
  },
  "language_info": {
   "codemirror_mode": {
    "name": "ipython",
    "version": 3
   },
   "file_extension": ".py",
   "mimetype": "text/x-python",
   "name": "python",
   "nbconvert_exporter": "python",
   "pygments_lexer": "ipython3",
   "version": "3.12.7"
  }
 },
 "nbformat": 4,
 "nbformat_minor": 2
}
